{
 "cells": [
  {
   "cell_type": "code",
   "execution_count": 85,
   "metadata": {
    "collapsed": false
   },
   "outputs": [],
   "source": [
    "from bs4 import BeautifulSoup\n",
    "import requests, os, time"
   ]
  },
  {
   "cell_type": "code",
   "execution_count": 78,
   "metadata": {
    "collapsed": false
   },
   "outputs": [],
   "source": [
    "def find_article_urls(page_url):\n",
    "    response = requests.get(page_url).text\n",
    "    soup = BeautifulSoup(response, \"lxml\")\n",
    "    urls = ['http://www.sciencealert.com'+k.find('a')['href'] for k in soup.find_all('div', 'titletext')]\n",
    "    return urls\n",
    "\n",
    "def collect_urls(category, npage):\n",
    "    urls = []\n",
    "    for i in range(npage):\n",
    "        start = 14*i\n",
    "        page_url = 'http://www.sciencealert.com/index.php?'+\\\n",
    "                'option=com_sciencealertfrontpage&'+\\\n",
    "                'view=getarticles&'+\\\n",
    "                'cat_title='+category+'&'+\\\n",
    "                'start='+str(start)+'&'+\\\n",
    "                'tmpl=component'\n",
    "        urls.extend(find_article_urls(page_url))\n",
    "    urls = set(urls) # avoid duplication\n",
    "    return urls\n",
    "\n",
    "def create_folder(rel_path): # create folder with a relative path\n",
    "    if not os.path.exists(rel_path):\n",
    "        os.makedirs(rel_path)\n",
    "        \n",
    "def write_file(path, filename, title, content):\n",
    "    f = open(path+filename+'.txt', 'w')\n",
    "    f.write(title+'\\n\\n\\n'+content)\n",
    "    f.close()\n"
   ]
  },
  {
   "cell_type": "code",
   "execution_count": 90,
   "metadata": {
    "collapsed": false
   },
   "outputs": [
    {
     "name": "stdout",
     "output_type": "stream",
     "text": [
      "Total number of collected urls: 60\n",
      "{'http://www.sciencealert.com/scientists-are-using-gene-editing-to-target-cancer-s-command-centre', 'http://www.sciencealert.com/new-study-suggests-breastfeeding-doesn-t-provide-cognitive-benefits-after-all', 'http://www.sciencealert.com/you-re-probably-showering-way-too-often', 'http://www.sciencealert.com/new-nasal-spray-crosses-the-blood-brain-barrier-to-deliver-drugs-directly', 'http://www.sciencealert.com/scientists-have-reversed-hair-loss-and-other-signs-of-ageing-in-mice', 'http://www.sciencealert.com/scientists-have-turned-spinach-into-working-human-heart-tissue', 'http://www.sciencealert.com/a-brain-invading-parasite-carried-by-snails-has-health-officials-concerned-in-maui', 'http://www.sciencealert.com/type-2-diabetes-has-been-reversed-in-40-of-patients-for-3-months', 'http://www.sciencealert.com/what-science-says-about-getting-the-most-out-of-your-tea', 'http://www.sciencealert.com/lurking-hiv-detected-by-scientists-in-a-major-biomarker-discovery', 'http://www.sciencealert.com/there-s-a-breakthrough-in-how-we-treat-cancer-on-the-horizon-but-genetic-testing-right-now-is-like-the-wild-wild-west', 'http://www.sciencealert.com/antibiotics-taken-early-in-life-may-have-lasting-negative-effects-on-behaviour-study-finds', 'http://www.sciencealert.com/we-finally-have-some-new-insight-into-how-ptsd-occurs-in-the-brain', 'http://www.sciencealert.com/why-do-we-have-blood-types', 'http://www.sciencealert.com/scientists-can-do-a-brain-scan-to-tell-if-you-re-depressed-and-what-treatment-is-needed', 'http://www.sciencealert.com/polycystic-ovary-syndrome-might-start-in-the-brain-not-the-ovaries', 'http://www.sciencealert.com/scientist-have-found-a-new-way-to-make-an-army-of-t-cells-to-fight-cancer', 'http://www.sciencealert.com/vitamin-d-has-been-linked-to-autism-prevention-in-animal-studies', 'http://www.sciencealert.com/evidence-emerges-that-a-viral-infection-could-be-behind-celiac-disease', 'http://www.sciencealert.com/record-sized-brain-cancer-study-reveals-a-bunch-of-new-cancer-genes', 'http://www.sciencealert.com/107-studies-published-in-a-cancer-journal-have-just-been-retracted', 'http://www.sciencealert.com/human-umbilical-blood-has-regenerated-the-brains-of-ageing-mice', 'http://www.sciencealert.com/a-new-gene-editing-technique-has-eliminated-acute-hiv-infection-in-living-animals', 'http://www.sciencealert.com/having-a-pet-in-the-family-could-help-prevent-obesity-and-allergies-in-children', 'http://www.sciencealert.com/scientists-find-another-sign-that-parkinson-s-starts-in-the-gut-and-not-in-the-brain', 'http://www.sciencealert.com/a-japanese-man-just-received-first-ever-donor-stem-cell-transplant-in-his-eye', 'http://www.sciencealert.com/clinical-trials-of-a-new-cancer-vaccine-show-that-it-may-actually-work', 'http://www.sciencealert.com/scientists-think-they-ve-pinpointed-the-a-group-of-brain-cells-that-respond-to-meditation', 'http://www.sciencealert.com/this-new-3d-printed-material-mimics-cartilage-to-make-knee-repairs-easier', 'http://www.sciencealert.com/your-blood-type-could-be-linked-to-a-higher-risk-of-heart-attack-or-stroke', 'http://www.sciencealert.com/giving-up-gluten-doesn-t-cut-your-risk-of-heart-disease-new-study-says', 'http://www.sciencealert.com/this-freaky-looking-eyeball-is-actually-perfectly-fine', 'http://www.sciencealert.com/fungi-found-in-a-toxic-mine-pit-have-teamed-up-to-produce-a-new-type-of-antibiotic', 'http://www.sciencealert.com/there-s-a-new-row-over-saturated-fat-and-health-here-s-what-you-need-to-know', 'http://www.sciencealert.com/long-term-memories-aren-t-just-short-term-memories-transferred-into-storage', 'http://www.sciencealert.com/does-coffee-actually-make-you-dehydrated', 'http://www.sciencealert.com/a-brand-new-type-of-insulin-producing-cell-has-been-discovered-hiding-in-plain-sight', 'http://www.sciencealert.com/study-finds-a-link-between-diet-drinks-and-strokes-that-cause-dementia', 'http://www.sciencealert.com/major-study-finds-the-pill-has-a-pretty-crap-impact-on-women-s-wellbeing', 'http://www.sciencealert.com/ultrasound-with-immunotherapy-could-be-used-to-treat-alzheimer-s', 'http://www.sciencealert.com/researchers-need-your-help-what-s-normal-for-you-after-sex', 'http://www.sciencealert.com/irish-study-finds-those-that-eat-more-full-fat-dairy-are-on-average-skinnier-and-have-lower-cholesterol', 'http://www.sciencealert.com/there-s-now-a-simple-and-more-accurate-way-to-determine-whether-your-weight-is-healthy', 'http://www.sciencealert.com/it-turns-out-the-immune-system-is-connected-to-the-testes-after-all', 'http://www.sciencealert.com/two-thirds-of-cancer-mutations-are-random-and-unavoidable-scientists-claim', 'http://www.sciencealert.com/scientists-want-to-use-deadly-spider-venom-to-prevent-brain-damage-from-strokes', 'http://www.sciencealert.com/researchers-make-blue-pigment-discovery-and-celebrate-with-green-beer', 'http://www.sciencealert.com/observing-your-own-brain-activity-could-be-the-future-of-treating-depression', 'http://www.sciencealert.com/scientists-discover-a-new-way-to-get-cancer-cells-to-self-destruct', 'http://www.sciencealert.com/a-standard-uti-test-is-leaving-many-women-without-appropriate-treatment-claims-new-study', 'http://www.sciencealert.com/another-study-just-linked-chronic-fatigue-syndrome-to-gut-bacteria', 'http://www.sciencealert.com/the-world-s-largest-pork-producer-is-exploring-ways-to-grow-human-organs-from-pig-parts', 'http://www.sciencealert.com/we-now-have-a-mathematical-formula-to-explain-how-sperm-swim', 'http://www.sciencealert.com/researchers-have-discovered-a-key-mechanism-behind-autoimmune-diseases', 'http://www.sciencealert.com/us-yellow-fever-vaccine-supply-will-be-gone-by-this-summer-but-the-cdc-has-a-plan', 'http://www.sciencealert.com/immortal-stem-cells-let-scientists-create-an-unlimited-supply-of-artificial-blood', 'http://www.sciencealert.com/scientists-have-eradicated-hepatitis-c-in-patients-who-received-infected-kidney-transplants', 'http://www.sciencealert.com/sperm-are-being-turned-into-tiny-drug-smugglers-to-treat-cancer', 'http://www.sciencealert.com/11-things-people-think-are-terrible-for-your-diet-that-actually-aren-t', 'http://www.sciencealert.com/this-tadpole-sees-the-world-through-an-eyeball-surgically-grafted-onto-its-tail'}\n"
     ]
    }
   ],
   "source": [
    "create_folder('text-files')\n",
    "path = 'text-files/'\n",
    "urls = collect_urls('health', 5) # set category and the number of pages \n",
    "print('Total number of collected urls: {}'.format(len(urls)))\n",
    "print(urls)"
   ]
  },
  {
   "cell_type": "code",
   "execution_count": 91,
   "metadata": {
    "collapsed": false
   },
   "outputs": [
    {
     "name": "stdout",
     "output_type": "stream",
     "text": [
      "Writing file for url: http://www.sciencealert.com/scientists-are-using-gene-editing-to-target-cancer-s-command-centre\n",
      "Writing file for url: http://www.sciencealert.com/new-study-suggests-breastfeeding-doesn-t-provide-cognitive-benefits-after-all\n",
      "Writing file for url: http://www.sciencealert.com/you-re-probably-showering-way-too-often\n",
      "Writing file for url: http://www.sciencealert.com/new-nasal-spray-crosses-the-blood-brain-barrier-to-deliver-drugs-directly\n",
      "Writing file for url: http://www.sciencealert.com/scientists-have-reversed-hair-loss-and-other-signs-of-ageing-in-mice\n",
      "Writing file for url: http://www.sciencealert.com/scientists-have-turned-spinach-into-working-human-heart-tissue\n",
      "Writing file for url: http://www.sciencealert.com/a-brain-invading-parasite-carried-by-snails-has-health-officials-concerned-in-maui\n",
      "Writing file for url: http://www.sciencealert.com/type-2-diabetes-has-been-reversed-in-40-of-patients-for-3-months\n",
      "Writing file for url: http://www.sciencealert.com/what-science-says-about-getting-the-most-out-of-your-tea\n",
      "Writing file for url: http://www.sciencealert.com/lurking-hiv-detected-by-scientists-in-a-major-biomarker-discovery\n",
      "Writing file for url: http://www.sciencealert.com/there-s-a-breakthrough-in-how-we-treat-cancer-on-the-horizon-but-genetic-testing-right-now-is-like-the-wild-wild-west\n",
      "Writing file for url: http://www.sciencealert.com/antibiotics-taken-early-in-life-may-have-lasting-negative-effects-on-behaviour-study-finds\n",
      "Writing file for url: http://www.sciencealert.com/we-finally-have-some-new-insight-into-how-ptsd-occurs-in-the-brain\n",
      "Writing file for url: http://www.sciencealert.com/why-do-we-have-blood-types\n",
      "Writing file for url: http://www.sciencealert.com/scientists-can-do-a-brain-scan-to-tell-if-you-re-depressed-and-what-treatment-is-needed\n",
      "Writing file for url: http://www.sciencealert.com/polycystic-ovary-syndrome-might-start-in-the-brain-not-the-ovaries\n",
      "Writing file for url: http://www.sciencealert.com/scientist-have-found-a-new-way-to-make-an-army-of-t-cells-to-fight-cancer\n",
      "Writing file for url: http://www.sciencealert.com/vitamin-d-has-been-linked-to-autism-prevention-in-animal-studies\n",
      "Writing file for url: http://www.sciencealert.com/evidence-emerges-that-a-viral-infection-could-be-behind-celiac-disease\n",
      "Writing file for url: http://www.sciencealert.com/record-sized-brain-cancer-study-reveals-a-bunch-of-new-cancer-genes\n",
      "Writing file for url: http://www.sciencealert.com/107-studies-published-in-a-cancer-journal-have-just-been-retracted\n",
      "Writing file for url: http://www.sciencealert.com/human-umbilical-blood-has-regenerated-the-brains-of-ageing-mice\n",
      "Writing file for url: http://www.sciencealert.com/a-new-gene-editing-technique-has-eliminated-acute-hiv-infection-in-living-animals\n",
      "Writing file for url: http://www.sciencealert.com/having-a-pet-in-the-family-could-help-prevent-obesity-and-allergies-in-children\n",
      "Writing file for url: http://www.sciencealert.com/scientists-find-another-sign-that-parkinson-s-starts-in-the-gut-and-not-in-the-brain\n",
      "Writing file for url: http://www.sciencealert.com/a-japanese-man-just-received-first-ever-donor-stem-cell-transplant-in-his-eye\n",
      "Writing file for url: http://www.sciencealert.com/clinical-trials-of-a-new-cancer-vaccine-show-that-it-may-actually-work\n",
      "Writing file for url: http://www.sciencealert.com/scientists-think-they-ve-pinpointed-the-a-group-of-brain-cells-that-respond-to-meditation\n",
      "Writing file for url: http://www.sciencealert.com/this-new-3d-printed-material-mimics-cartilage-to-make-knee-repairs-easier\n",
      "Writing file for url: http://www.sciencealert.com/your-blood-type-could-be-linked-to-a-higher-risk-of-heart-attack-or-stroke\n",
      "Writing file for url: http://www.sciencealert.com/giving-up-gluten-doesn-t-cut-your-risk-of-heart-disease-new-study-says\n",
      "Writing file for url: http://www.sciencealert.com/this-freaky-looking-eyeball-is-actually-perfectly-fine\n",
      "Writing file for url: http://www.sciencealert.com/fungi-found-in-a-toxic-mine-pit-have-teamed-up-to-produce-a-new-type-of-antibiotic\n",
      "Writing file for url: http://www.sciencealert.com/there-s-a-new-row-over-saturated-fat-and-health-here-s-what-you-need-to-know\n",
      "Writing file for url: http://www.sciencealert.com/long-term-memories-aren-t-just-short-term-memories-transferred-into-storage\n",
      "Writing file for url: http://www.sciencealert.com/does-coffee-actually-make-you-dehydrated\n",
      "Writing file for url: http://www.sciencealert.com/a-brand-new-type-of-insulin-producing-cell-has-been-discovered-hiding-in-plain-sight\n",
      "Writing file for url: http://www.sciencealert.com/study-finds-a-link-between-diet-drinks-and-strokes-that-cause-dementia\n",
      "Writing file for url: http://www.sciencealert.com/major-study-finds-the-pill-has-a-pretty-crap-impact-on-women-s-wellbeing\n",
      "Writing file for url: http://www.sciencealert.com/ultrasound-with-immunotherapy-could-be-used-to-treat-alzheimer-s\n",
      "Writing file for url: http://www.sciencealert.com/researchers-need-your-help-what-s-normal-for-you-after-sex\n",
      "Writing file for url: http://www.sciencealert.com/irish-study-finds-those-that-eat-more-full-fat-dairy-are-on-average-skinnier-and-have-lower-cholesterol\n",
      "Writing file for url: http://www.sciencealert.com/there-s-now-a-simple-and-more-accurate-way-to-determine-whether-your-weight-is-healthy\n",
      "Writing file for url: http://www.sciencealert.com/it-turns-out-the-immune-system-is-connected-to-the-testes-after-all\n",
      "Writing file for url: http://www.sciencealert.com/two-thirds-of-cancer-mutations-are-random-and-unavoidable-scientists-claim\n",
      "Writing file for url: http://www.sciencealert.com/scientists-want-to-use-deadly-spider-venom-to-prevent-brain-damage-from-strokes\n",
      "Writing file for url: http://www.sciencealert.com/researchers-make-blue-pigment-discovery-and-celebrate-with-green-beer\n",
      "Writing file for url: http://www.sciencealert.com/observing-your-own-brain-activity-could-be-the-future-of-treating-depression\n",
      "Writing file for url: http://www.sciencealert.com/scientists-discover-a-new-way-to-get-cancer-cells-to-self-destruct\n",
      "Writing file for url: http://www.sciencealert.com/a-standard-uti-test-is-leaving-many-women-without-appropriate-treatment-claims-new-study\n",
      "Writing file for url: http://www.sciencealert.com/another-study-just-linked-chronic-fatigue-syndrome-to-gut-bacteria\n",
      "Writing file for url: http://www.sciencealert.com/the-world-s-largest-pork-producer-is-exploring-ways-to-grow-human-organs-from-pig-parts\n",
      "Writing file for url: http://www.sciencealert.com/we-now-have-a-mathematical-formula-to-explain-how-sperm-swim\n",
      "Writing file for url: http://www.sciencealert.com/researchers-have-discovered-a-key-mechanism-behind-autoimmune-diseases\n",
      "Writing file for url: http://www.sciencealert.com/us-yellow-fever-vaccine-supply-will-be-gone-by-this-summer-but-the-cdc-has-a-plan\n",
      "Writing file for url: http://www.sciencealert.com/immortal-stem-cells-let-scientists-create-an-unlimited-supply-of-artificial-blood\n",
      "Writing file for url: http://www.sciencealert.com/scientists-have-eradicated-hepatitis-c-in-patients-who-received-infected-kidney-transplants\n",
      "Writing file for url: http://www.sciencealert.com/sperm-are-being-turned-into-tiny-drug-smugglers-to-treat-cancer\n",
      "Writing file for url: http://www.sciencealert.com/11-things-people-think-are-terrible-for-your-diet-that-actually-aren-t\n",
      "Writing file for url: http://www.sciencealert.com/this-tadpole-sees-the-world-through-an-eyeball-surgically-grafted-onto-its-tail\n"
     ]
    }
   ],
   "source": [
    "for url in urls:\n",
    "    response = requests.get(url).text\n",
    "    soup = BeautifulSoup(response, \"lxml\")\n",
    "    filename = url.replace('http://www.sciencealert.com/', 'sciencealert-com-')\n",
    "    title = soup.find('div', 'article-title').text\n",
    "    content = \"\".join([p.get_text() for p in soup.find('div', 'article-fulltext').find_all('p')])\n",
    "    print('Writing file for url: {}'.format(url))\n",
    "    write_file(path, filename, title, content)\n",
    "    time.sleep(1) # avoid being blocked\n",
    "\n"
   ]
  }
 ],
 "metadata": {
  "kernelspec": {
   "display_name": "Python 3",
   "language": "python",
   "name": "python3"
  },
  "language_info": {
   "codemirror_mode": {
    "name": "ipython",
    "version": 3
   },
   "file_extension": ".py",
   "mimetype": "text/x-python",
   "name": "python",
   "nbconvert_exporter": "python",
   "pygments_lexer": "ipython3",
   "version": "3.6.0"
  }
 },
 "nbformat": 4,
 "nbformat_minor": 2
}
